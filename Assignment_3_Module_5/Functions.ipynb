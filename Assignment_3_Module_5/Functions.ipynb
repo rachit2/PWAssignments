{
 "cells": [
  {
   "cell_type": "markdown",
   "id": "7335a4f4",
   "metadata": {},
   "source": [
    "### Sum of all even numbers in list"
   ]
  },
  {
   "cell_type": "code",
   "execution_count": null,
   "id": "84c37c3e",
   "metadata": {},
   "outputs": [],
   "source": [
    "# Sum of all even numbers in list\n",
    "def sum_even(numbers):\n",
    "    return sum(n for n in numbers if n % 2 == 0)\n",
    "\n",
    "# Example\n",
    "sum_even([1, 2, 3, 4, 5, 6])"
   ]
  },
  {
   "cell_type": "markdown",
   "id": "12ee71e8",
   "metadata": {},
   "source": [
    "### Reverse a string"
   ]
  },
  {
   "cell_type": "code",
   "execution_count": null,
   "id": "9f4621bd",
   "metadata": {},
   "outputs": [],
   "source": [
    "# Reverse a string\n",
    "def reverse_string(s):\n",
    "    return s[::-1]\n",
    "\n",
    "# Example\n",
    "reverse_string('Python')"
   ]
  },
  {
   "cell_type": "markdown",
   "id": "d6224bed",
   "metadata": {},
   "source": [
    "### Squares of a list of integers"
   ]
  },
  {
   "cell_type": "code",
   "execution_count": null,
   "id": "4d304b65",
   "metadata": {},
   "outputs": [],
   "source": [
    "# Squares of a list of integers\n",
    "def square_list(lst):\n",
    "    return [x**2 for x in lst]\n",
    "\n",
    "# Example\n",
    "square_list([1, 2, 3, 4])"
   ]
  },
  {
   "cell_type": "markdown",
   "id": "4fe4e66d",
   "metadata": {},
   "source": [
    "### Check if a number is prime (1 to 200)"
   ]
  },
  {
   "cell_type": "code",
   "execution_count": null,
   "id": "cc048ed1",
   "metadata": {},
   "outputs": [],
   "source": [
    "# Check if a number is prime (1 to 200)\n",
    "def is_prime(n):\n",
    "    if n < 2:\n",
    "        return False\n",
    "    for i in range(2, int(n**0.5)+1):\n",
    "        if n % i == 0:\n",
    "            return False\n",
    "    return True\n",
    "\n",
    "# Example\n",
    "is_prime(197)"
   ]
  },
  {
   "cell_type": "markdown",
   "id": "13ad03a4",
   "metadata": {},
   "source": [
    "### Iterator class for Fibonacci sequence"
   ]
  },
  {
   "cell_type": "code",
   "execution_count": null,
   "id": "70082a22",
   "metadata": {},
   "outputs": [],
   "source": [
    "# Iterator class for Fibonacci sequence\n",
    "class Fibonacci:\n",
    "    def __init__(self, limit):\n",
    "        self.a, self.b, self.limit = 0, 1, limit\n",
    "\n",
    "    def __iter__(self):\n",
    "        return self\n",
    "\n",
    "    def __next__(self):\n",
    "        if self.a > self.limit:\n",
    "            raise StopIteration\n",
    "        val = self.a\n",
    "        self.a, self.b = self.b, self.a + self.b\n",
    "        return val\n",
    "\n",
    "# Example\n",
    "list(Fibonacci(50))"
   ]
  },
  {
   "cell_type": "markdown",
   "id": "b7093299",
   "metadata": {},
   "source": [
    "### Generator for powers of 2 up to given exponent"
   ]
  },
  {
   "cell_type": "code",
   "execution_count": null,
   "id": "f52222fc",
   "metadata": {},
   "outputs": [],
   "source": [
    "# Generator for powers of 2 up to given exponent\n",
    "def powers_of_two(n):\n",
    "    for i in range(n+1):\n",
    "        yield 2**i\n",
    "\n",
    "# Example\n",
    "list(powers_of_two(5))"
   ]
  },
  {
   "cell_type": "markdown",
   "id": "810f2897",
   "metadata": {},
   "source": [
    "### Generator for yielding lines in a file"
   ]
  },
  {
   "cell_type": "code",
   "execution_count": null,
   "id": "cc4ecb99",
   "metadata": {},
   "outputs": [],
   "source": [
    "# Generator for yielding lines in a file\n",
    "def line_reader(filepath):\n",
    "    with open(filepath, 'r') as file:\n",
    "        for line in file:\n",
    "            yield line.strip()\n",
    "\n",
    "# Usage would be like:\n",
    "# for line in line_reader('file.txt'):\n",
    "#     print(line)"
   ]
  },
  {
   "cell_type": "markdown",
   "id": "3722dd87",
   "metadata": {},
   "source": [
    "### Sort tuples by second element using lambda"
   ]
  },
  {
   "cell_type": "code",
   "execution_count": null,
   "id": "0bcfc02d",
   "metadata": {},
   "outputs": [],
   "source": [
    "# Sort tuples by second element using lambda\n",
    "data = [(1, 3), (2, 1), (4, 2)]\n",
    "sorted_data = sorted(data, key=lambda x: x[1])\n",
    "sorted_data"
   ]
  },
  {
   "cell_type": "markdown",
   "id": "bdc7fda1",
   "metadata": {},
   "source": [
    "### Convert Celsius to Fahrenheit using map()"
   ]
  },
  {
   "cell_type": "code",
   "execution_count": null,
   "id": "4c8fd4c8",
   "metadata": {},
   "outputs": [],
   "source": [
    "# Convert Celsius to Fahrenheit using map()\n",
    "celsius = [0, 20, 37, 100]\n",
    "fahrenheit = list(map(lambda c: (9/5)*c + 32, celsius))\n",
    "fahrenheit"
   ]
  },
  {
   "cell_type": "markdown",
   "id": "38ca58e5",
   "metadata": {},
   "source": [
    "### Remove all vowels from a string using filter()"
   ]
  },
  {
   "cell_type": "code",
   "execution_count": null,
   "id": "5099c64b",
   "metadata": {},
   "outputs": [],
   "source": [
    "# Remove all vowels from a string using filter()\n",
    "def remove_vowels(s):\n",
    "    return ''.join(filter(lambda x: x.lower() not in 'aeiou', s))\n",
    "\n",
    "# Example\n",
    "remove_vowels('Beautiful Python')"
   ]
  },
  {
   "cell_type": "markdown",
   "id": "9eefd748",
   "metadata": {},
   "source": [
    "### Accounting routine with lambda and map"
   ]
  },
  {
   "cell_type": "code",
   "execution_count": null,
   "id": "e29a3e69",
   "metadata": {},
   "outputs": [],
   "source": [
    "# Accounting routine with lambda and map\n",
    "orders = [\n",
    "    [34587, 'Learning Python, Mark Lutz', 4, 40.95],\n",
    "    [98762, 'Programming Python, Mark Lutz', 5, 56.80],\n",
    "    [77226, 'Head First Python, Paul Barry', 3, 32.95],\n",
    "    [88112, 'Einführung in Python3, Bernd Klein', 3, 24.99]\n",
    "]\n",
    "\n",
    "order_totals = list(map(\n",
    "    lambda order: (order[0], round(order[2] * order[3] + (10 if order[2] * order[3] < 100 else 0), 2)),\n",
    "    orders))\n",
    "\n",
    "order_totals"
   ]
  }
 ],
 "metadata": {},
 "nbformat": 4,
 "nbformat_minor": 5
}