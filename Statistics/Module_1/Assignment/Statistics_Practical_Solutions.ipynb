{
 "cells": [
  {
   "cell_type": "markdown",
   "id": "2fc3c7f8",
   "metadata": {},
   "source": [
    "### How do you calculate the mean, median, and mode of a dataset"
   ]
  },
  {
   "cell_type": "code",
   "execution_count": null,
   "id": "59ca9047",
   "metadata": {},
   "outputs": [],
   "source": [
    "import numpy as np\n",
    "from scipy import stats\n",
    "\n",
    "data = [12, 15, 12, 18, 19, 12, 14, 17]\n",
    "mean = np.mean(data)\n",
    "median = np.median(data)\n",
    "mode = stats.mode(data, keepdims=True)\n",
    "print(f\"Mean: {mean}, Median: {median}, Mode: {mode.mode[0]}\")"
   ]
  },
  {
   "cell_type": "markdown",
   "id": "f2ddd4b9",
   "metadata": {},
   "source": [
    "### Write a Python program to compute the variance and standard deviation of a dataset"
   ]
  },
  {
   "cell_type": "code",
   "execution_count": null,
   "id": "4d8b0290",
   "metadata": {},
   "outputs": [],
   "source": [
    "variance = np.var(data)\n",
    "std_deviation = np.std(data)\n",
    "print(f\"Variance: {variance}, Standard Deviation: {std_deviation}\")"
   ]
  },
  {
   "cell_type": "markdown",
   "id": "b04cd697",
   "metadata": {},
   "source": [
    "### Create a dataset and classify it into nominal, ordinal, interval, and ratio types"
   ]
  },
  {
   "cell_type": "code",
   "execution_count": null,
   "id": "2a5d1ac9",
   "metadata": {},
   "outputs": [],
   "source": [
    "dataset = {\n",
    "    \"Nominal\": [\"Red\", \"Blue\", \"Green\"],\n",
    "    \"Ordinal\": [\"Low\", \"Medium\", \"High\"],\n",
    "    \"Interval\": [10, 20, 30],  # temperature in Celsius\n",
    "    \"Ratio\": [5.0, 10.0, 15.0]  # weight in kg\n",
    "}\n",
    "print(dataset)"
   ]
  },
  {
   "cell_type": "markdown",
   "id": "a3026169",
   "metadata": {},
   "source": [
    "### Implement sampling techniques like random sampling and stratified sampling"
   ]
  },
  {
   "cell_type": "code",
   "execution_count": null,
   "id": "1fc70e8a",
   "metadata": {},
   "outputs": [],
   "source": [
    "import pandas as pd\n",
    "from sklearn.model_selection import train_test_split\n",
    "\n",
    "df = pd.DataFrame({'value': range(100), 'group': ['A']*50 + ['B']*50})\n",
    "random_sample = df.sample(n=10)\n",
    "stratified_sample = df.groupby('group', group_keys=False).apply(lambda x: x.sample(5))\n",
    "print(random_sample)\n",
    "print(stratified_sample)"
   ]
  },
  {
   "cell_type": "markdown",
   "id": "d9d2b678",
   "metadata": {},
   "source": [
    "### Write a Python function to calculate the range of a dataset"
   ]
  },
  {
   "cell_type": "code",
   "execution_count": null,
   "id": "228fa423",
   "metadata": {},
   "outputs": [],
   "source": [
    "def calc_range(data):\n",
    "    return max(data) - min(data)\n",
    "\n",
    "print(\"Range:\", calc_range(data))"
   ]
  },
  {
   "cell_type": "markdown",
   "id": "823bd73a",
   "metadata": {},
   "source": [
    "### Create a dataset and plot its histogram to visualize skewness"
   ]
  },
  {
   "cell_type": "code",
   "execution_count": null,
   "id": "383e1737",
   "metadata": {},
   "outputs": [],
   "source": [
    "import matplotlib.pyplot as plt\n",
    "plt.hist(data, bins=10)\n",
    "plt.title('Histogram')\n",
    "plt.show()"
   ]
  },
  {
   "cell_type": "markdown",
   "id": "2b4cba22",
   "metadata": {},
   "source": [
    "### Calculate skewness and kurtosis of a dataset using Python libraries"
   ]
  },
  {
   "cell_type": "code",
   "execution_count": null,
   "id": "0914175d",
   "metadata": {},
   "outputs": [],
   "source": [
    "print(\"Skewness:\", stats.skew(data))\n",
    "print(\"Kurtosis:\", stats.kurtosis(data))"
   ]
  },
  {
   "cell_type": "markdown",
   "id": "dfbc27d6",
   "metadata": {},
   "source": [
    "### Generate a dataset and demonstrate positive and negative skewness"
   ]
  },
  {
   "cell_type": "code",
   "execution_count": null,
   "id": "01bfd84e",
   "metadata": {},
   "outputs": [],
   "source": [
    "from scipy.stats import skewnorm\n",
    "positive_skew = skewnorm.rvs(a=10, size=1000)\n",
    "negative_skew = skewnorm.rvs(a=-10, size=1000)\n",
    "plt.hist(positive_skew, bins=30, alpha=0.7, label='Positive Skew')\n",
    "plt.hist(negative_skew, bins=30, alpha=0.7, label='Negative Skew')\n",
    "plt.legend()\n",
    "plt.show()"
   ]
  },
  {
   "cell_type": "markdown",
   "id": "b0d6f900",
   "metadata": {},
   "source": [
    "### Write a Python script to calculate covariance between two datasets"
   ]
  },
  {
   "cell_type": "code",
   "execution_count": null,
   "id": "dc605152",
   "metadata": {},
   "outputs": [],
   "source": [
    "x = [2, 4, 6, 8]\n",
    "y = [1, 3, 2, 5]\n",
    "cov_matrix = np.cov(x, y)\n",
    "print(\"Covariance matrix:\\n\", cov_matrix)"
   ]
  },
  {
   "cell_type": "markdown",
   "id": "13df5890",
   "metadata": {},
   "source": [
    "### Write a Python script to calculate the correlation coefficient between two datasets"
   ]
  },
  {
   "cell_type": "code",
   "execution_count": null,
   "id": "999a45a2",
   "metadata": {},
   "outputs": [],
   "source": [
    "correlation = np.corrcoef(x, y)\n",
    "print(\"Correlation coefficient matrix:\\n\", correlation)"
   ]
  },
  {
   "cell_type": "markdown",
   "id": "70d28c2f",
   "metadata": {},
   "source": [
    "### Create a scatter plot to visualize the relationship between two variables"
   ]
  },
  {
   "cell_type": "code",
   "execution_count": null,
   "id": "6015c100",
   "metadata": {},
   "outputs": [],
   "source": [
    "plt.scatter(x, y)\n",
    "plt.title('Scatter Plot')\n",
    "plt.xlabel('X')\n",
    "plt.ylabel('Y')\n",
    "plt.show()"
   ]
  },
  {
   "cell_type": "markdown",
   "id": "5b07db39",
   "metadata": {},
   "source": [
    "### Implement and compare simple random sampling and systematic sampling"
   ]
  },
  {
   "cell_type": "code",
   "execution_count": null,
   "id": "9f9efb61",
   "metadata": {},
   "outputs": [],
   "source": [
    "import numpy as np\n",
    "\n",
    "# Simple random\n",
    "simple_random = df.sample(n=10)\n",
    "# Systematic sampling\n",
    "interval = len(df) // 10\n",
    "systematic_sample = df.iloc[::interval]\n",
    "print(\"Simple Random:\\n\", simple_random)\n",
    "print(\"Systematic:\\n\", systematic_sample)"
   ]
  },
  {
   "cell_type": "markdown",
   "id": "48dba6ed",
   "metadata": {},
   "source": [
    "### Calculate the mean, median, and mode of grouped data"
   ]
  },
  {
   "cell_type": "code",
   "execution_count": null,
   "id": "96d164e5",
   "metadata": {},
   "outputs": [],
   "source": [
    "grouped_data = {10: 3, 20: 5, 30: 2}  # value: frequency\n",
    "values = []\n",
    "for val, freq in grouped_data.items():\n",
    "    values.extend([val]*freq)\n",
    "print(f\"Mean: {np.mean(values)}, Median: {np.median(values)}, Mode: {stats.mode(values, keepdims=True).mode[0]}\")"
   ]
  },
  {
   "cell_type": "markdown",
   "id": "c7ca200b",
   "metadata": {},
   "source": [
    "### Simulate data using Python and calculate its central tendency and dispersion"
   ]
  },
  {
   "cell_type": "code",
   "execution_count": null,
   "id": "dbad5dce",
   "metadata": {},
   "outputs": [],
   "source": [
    "simulated = np.random.normal(50, 10, 1000)\n",
    "print(f\"Mean: {np.mean(simulated)}, Std: {np.std(simulated)}\")"
   ]
  },
  {
   "cell_type": "markdown",
   "id": "af037470",
   "metadata": {},
   "source": [
    "### Use NumPy or pandas to summarize a dataset’s descriptive statistics"
   ]
  },
  {
   "cell_type": "code",
   "execution_count": null,
   "id": "d89a29c2",
   "metadata": {},
   "outputs": [],
   "source": [
    "df = pd.DataFrame({'data': simulated})\n",
    "print(df.describe())"
   ]
  },
  {
   "cell_type": "markdown",
   "id": "ed5721c7",
   "metadata": {},
   "source": [
    "### Plot a boxplot to understand the spread and identify outliers"
   ]
  },
  {
   "cell_type": "code",
   "execution_count": null,
   "id": "08afc007",
   "metadata": {},
   "outputs": [],
   "source": [
    "plt.boxplot(simulated)\n",
    "plt.title('Boxplot')\n",
    "plt.show()"
   ]
  },
  {
   "cell_type": "markdown",
   "id": "3ab00cfb",
   "metadata": {},
   "source": [
    "### Calculate the interquartile range (IQR) of a dataset"
   ]
  },
  {
   "cell_type": "code",
   "execution_count": null,
   "id": "6f0b2dca",
   "metadata": {},
   "outputs": [],
   "source": [
    "Q1 = np.percentile(simulated, 25)\n",
    "Q3 = np.percentile(simulated, 75)\n",
    "IQR = Q3 - Q1\n",
    "print(\"IQR:\", IQR)"
   ]
  },
  {
   "cell_type": "markdown",
   "id": "74506b7b",
   "metadata": {},
   "source": [
    "### Implement Z-score normalization and explain its significance"
   ]
  },
  {
   "cell_type": "code",
   "execution_count": null,
   "id": "18b5fac2",
   "metadata": {},
   "outputs": [],
   "source": [
    "z_scores = (simulated - np.mean(simulated)) / np.std(simulated)\n",
    "print(\"Z-scores (first 10):\", z_scores[:10])"
   ]
  },
  {
   "cell_type": "markdown",
   "id": "f5232582",
   "metadata": {},
   "source": [
    "### Compare two datasets using their standard deviations"
   ]
  },
  {
   "cell_type": "code",
   "execution_count": null,
   "id": "145c74dd",
   "metadata": {},
   "outputs": [],
   "source": [
    "dataset1 = np.random.normal(50, 5, 1000)\n",
    "dataset2 = np.random.normal(50, 15, 1000)\n",
    "print(\"Std Dev 1:\", np.std(dataset1), \"Std Dev 2:\", np.std(dataset2))"
   ]
  },
  {
   "cell_type": "markdown",
   "id": "c9fab1a4",
   "metadata": {},
   "source": [
    "### Write a Python program to visualize covariance using a heatmap"
   ]
  },
  {
   "cell_type": "code",
   "execution_count": null,
   "id": "3e67c3d2",
   "metadata": {},
   "outputs": [],
   "source": [
    "import seaborn as sns\n",
    "\n",
    "df_cov = pd.DataFrame({'x': x, 'y': y})\n",
    "sns.heatmap(df_cov.cov(), annot=True)\n",
    "plt.title(\"Covariance Heatmap\")\n",
    "plt.show()"
   ]
  },
  {
   "cell_type": "markdown",
   "id": "28ab3152",
   "metadata": {},
   "source": [
    "### Use seaborn to create a correlation matrix for a dataset"
   ]
  },
  {
   "cell_type": "code",
   "execution_count": null,
   "id": "fb4808c7",
   "metadata": {},
   "outputs": [],
   "source": [
    "sns.heatmap(df_cov.corr(), annot=True)\n",
    "plt.title(\"Correlation Matrix\")\n",
    "plt.show()"
   ]
  },
  {
   "cell_type": "markdown",
   "id": "97edb904",
   "metadata": {},
   "source": [
    "### Generate a dataset and implement both variance and standard deviation computations"
   ]
  },
  {
   "cell_type": "code",
   "execution_count": null,
   "id": "38618dd1",
   "metadata": {},
   "outputs": [],
   "source": [
    "generated = np.random.randint(0, 100, size=100)\n",
    "print(\"Variance:\", np.var(generated), \"Standard Deviation:\", np.std(generated))"
   ]
  },
  {
   "cell_type": "markdown",
   "id": "a1a329c3",
   "metadata": {},
   "source": [
    "### Visualize skewness and kurtosis using Python libraries like matplotlib or seaborn"
   ]
  },
  {
   "cell_type": "code",
   "execution_count": null,
   "id": "b536f3ec",
   "metadata": {},
   "outputs": [],
   "source": [
    "sns.histplot(generated, kde=True)\n",
    "plt.title('Distribution with KDE')\n",
    "plt.show()\n",
    "print(\"Skewness:\", stats.skew(generated))\n",
    "print(\"Kurtosis:\", stats.kurtosis(generated))"
   ]
  },
  {
   "cell_type": "markdown",
   "id": "6a0a9be3",
   "metadata": {},
   "source": [
    "### Implement the Pearson and Spearman correlation coefficients for a dataset"
   ]
  },
  {
   "cell_type": "code",
   "execution_count": null,
   "id": "c35eb7ca",
   "metadata": {},
   "outputs": [],
   "source": [
    "from scipy.stats import pearsonr, spearmanr\n",
    "\n",
    "pearson_corr, _ = pearsonr(x, y)\n",
    "spearman_corr, _ = spearmanr(x, y)\n",
    "print(f\"Pearson: {pearson_corr}, Spearman: {spearman_corr}\")"
   ]
  }
 ],
 "metadata": {},
 "nbformat": 4,
 "nbformat_minor": 5
}
