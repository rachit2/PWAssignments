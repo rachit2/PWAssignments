{
 "cells": [
  {
   "cell_type": "code",
   "execution_count": null,
   "id": "28f199bb",
   "metadata": {},
   "outputs": [],
   "source": [
    "# Q1: How can you open a file for writing in Python and write a string to it?\n",
    "# Your code goes here\n",
    "\n",
    "def write_to_file(filename, content):\n",
    "    try:\n",
    "        with open(filename, 'w') as file:\n",
    "            file.write(content)\n",
    "        print(f\"Successfully wrote to {filename}\")\n",
    "    except Exception as e:\n",
    "        print(f\"An error occurred while writing to the file: {e}\")  "
   ]
  },
  {
   "cell_type": "code",
   "execution_count": null,
   "id": "4d23233b",
   "metadata": {},
   "outputs": [],
   "source": [
    "# Q2: Write a Python program to read the contents of a file and print each line.\n",
    "# Your code goes here\n",
    "def read_file(filename):\n",
    "    try:\n",
    "        with open(filename, 'r') as file:\n",
    "            for line in file:\n",
    "                print(line.strip())\n",
    "    except Exception as e:\n",
    "        print(f\"An error occurred while reading the file: {e}\") "
   ]
  },
  {
   "cell_type": "code",
   "execution_count": null,
   "id": "27ebbc29",
   "metadata": {},
   "outputs": [],
   "source": [
    "# Q3: How would you handle a case where the file doesn't exist while trying to open it for reading?\n",
    "# Your code goes here\n",
    "def read_file_safe(filename):\n",
    "    try:\n",
    "        with open(filename, 'r') as file:\n",
    "            for line in file:\n",
    "                print(line.strip()) \n",
    "    except FileNotFoundError:\n",
    "        print(f\"The file {filename} does not exist.\")\n",
    "    except Exception as e:\n",
    "        print(f\"An error occurred while reading the file: {e}\")\n"
   ]
  },
  {
   "cell_type": "code",
   "execution_count": null,
   "id": "53bf05ed",
   "metadata": {},
   "outputs": [],
   "source": [
    "# Q4: Write a Python script that reads from one file and writes its content to another file.\n",
    "# Your code goes here\n",
    "def copy_file(source_filename, destination_filename):\n",
    "    try:\n",
    "        with open(source_filename, 'r') as source_file:\n",
    "            content = source_file.read()\n",
    "        with open(destination_filename, 'w') as dest_file:\n",
    "            dest_file.write(content)\n",
    "        print(f\"Successfully copied content from {source_filename} to {destination_filename}\")\n",
    "    except FileNotFoundError:\n",
    "        print(f\"The source file {source_filename} does not exist.\")\n",
    "    except Exception as e:\n",
    "        print(f\"An error occurred while copying the file: {e}\")"
   ]
  },
  {
   "cell_type": "code",
   "execution_count": null,
   "id": "6ebf27d5",
   "metadata": {},
   "outputs": [],
   "source": [
    "# Q5: How would you catch and handle division by zero error in Python?\n",
    "# Your code goes here\n",
    "def safe_divide(a, b):\n",
    "    try:\n",
    "        result = a / b\n",
    "        return result\n",
    "    except ZeroDivisionError:\n",
    "        print(\"Error: Division by zero is not allowed.\")\n",
    "        return None\n",
    "    except Exception as e:\n",
    "        print(f\"An unexpected error occurred: {e}\")\n",
    "        return None"
   ]
  },
  {
   "cell_type": "code",
   "execution_count": null,
   "id": "90b429f2",
   "metadata": {},
   "outputs": [],
   "source": [
    "# Q6: Write a Python program that logs an error message to a log file when a division by zero exception occurs.\n",
    "# Your code goes here\n",
    "import logging\n",
    "def setup_logging(log_filename):\n",
    "    logging.basicConfig(filename=log_filename, level=logging.ERROR, \n",
    "                        format='%(asctime)s - %(levelname)s - %(message)s')\n",
    "def log_divide(a, b, log_filename): \n",
    "    setup_logging(log_filename)\n",
    "    try:\n",
    "        result = a / b\n",
    "        return result\n",
    "    except ZeroDivisionError:\n",
    "        logging.error(\"Division by zero error occurred.\")\n",
    "        print(\"Error: Division by zero is not allowed.\")\n",
    "        return None\n",
    "    except Exception as e:\n",
    "        logging.error(f\"An unexpected error occurred: {e}\")\n",
    "        print(f\"An unexpected error occurred: {e}\")\n",
    "        return None"
   ]
  },
  {
   "cell_type": "code",
   "execution_count": null,
   "id": "d528581e",
   "metadata": {},
   "outputs": [],
   "source": [
    "# Q7: How do you log information at different levels (INFO, ERROR, WARNING) in Python using the logging module?\n",
    "# Your code goes here\n",
    "def log_info(message):\n",
    "    logging.info(message)\n",
    "def log_error(message):\n",
    "    logging.error(message)\n",
    "def log_warning(message):\n",
    "    logging.warning(message)\n"
   ]
  },
  {
   "cell_type": "code",
   "execution_count": null,
   "id": "d07c089f",
   "metadata": {},
   "outputs": [],
   "source": [
    "# Q8: Write a program to handle a file opening error using exception handling.\n",
    "# Your code goes here\n",
    "def open_file_with_error_handling(filename):\n",
    "    try:\n",
    "        with open(filename, 'r') as file:\n",
    "            content = file.read()\n",
    "            print(content)\n",
    "    except FileNotFoundError:\n",
    "        print(f\"The file {filename} does not exist.\")\n",
    "    except IOError as e:\n",
    "        print(f\"An I/O error occurred: {e}\")\n",
    "    except Exception as e:\n",
    "        print(f\"An unexpected error occurred: {e}\")\n"
   ]
  },
  {
   "cell_type": "code",
   "execution_count": null,
   "id": "488215fe",
   "metadata": {},
   "outputs": [],
   "source": [
    "# Q9: How can you read a file line by line and store its content in a list in Python?\n",
    "# Your code goes here\n",
    "def read_file_to_list(filename):\n",
    "    content_list = []\n",
    "    try:\n",
    "        with open(filename, 'r') as file:\n",
    "            for line in file:\n",
    "                content_list.append(line.strip())\n",
    "        return content_list\n",
    "    except FileNotFoundError:\n",
    "        print(f\"The file {filename} does not exist.\")\n",
    "        return []\n",
    "    except Exception as e:\n",
    "        print(f\"An error occurred while reading the file: {e}\")\n",
    "        return []"
   ]
  },
  {
   "cell_type": "code",
   "execution_count": null,
   "id": "57498913",
   "metadata": {},
   "outputs": [],
   "source": [
    "# Q10: How can you append data to an existing file in Python?\n",
    "# Your code goes here\n",
    "def append_to_file(filename, content):\n",
    "    try:\n",
    "        with open(filename, 'a') as file:\n",
    "            file.write(content + '\\n')\n",
    "        print(f\"Successfully appended to {filename}\")\n",
    "    except Exception as e:\n",
    "        print(f\"An error occurred while appending to the file: {e}\")\n"
   ]
  },
  {
   "cell_type": "code",
   "execution_count": null,
   "id": "a7136945",
   "metadata": {},
   "outputs": [],
   "source": [
    "# Q11: Write a Python program that uses a try-except block to handle an error when attempting to access a dictionary key that doesn't exist.\n",
    "# Your code goes here\n",
    "def access_dict_key_safe(dictionary, key):\n",
    "    try:\n",
    "        value = dictionary[key]\n",
    "        return value\n",
    "    except KeyError:\n",
    "        print(f\"Key '{key}' does not exist in the dictionary.\")\n",
    "        return None\n",
    "    except Exception as e:\n",
    "        print(f\"An unexpected error occurred: {e}\")\n",
    "        return None"
   ]
  },
  {
   "cell_type": "code",
   "execution_count": null,
   "id": "acc9857e",
   "metadata": {},
   "outputs": [],
   "source": [
    "# Q12: Write a program that demonstrates using multiple except blocks to handle different types of exceptions.\n",
    "# Your code goes here\n",
    "def multiple_exceptions_demo(value):\n",
    "    try:\n",
    "        # Attempt to convert value to an integer\n",
    "        result = int(value)\n",
    "        print(f\"Converted value: {result}\")\n",
    "    except ValueError:\n",
    "        print(\"ValueError: The provided value cannot be converted to an integer.\")\n",
    "    except TypeError:\n",
    "        print(\"TypeError: The provided value is of an unsupported type.\")\n",
    "    except Exception as e:\n",
    "        print(f\"An unexpected error occurred: {e}\")"
   ]
  },
  {
   "cell_type": "code",
   "execution_count": null,
   "id": "2e60fb7a",
   "metadata": {},
   "outputs": [],
   "source": [
    "# Q13: How would you check if a file exists before attempting to read it in Python?\n",
    "# Your code goes here\n",
    "import os\n",
    "def check_file_exists(filename):\n",
    "    if os.path.exists(filename):\n",
    "        print(f\"The file {filename} exists.\")\n",
    "        return True\n",
    "    else:\n",
    "        print(f\"The file {filename} does not exist.\")\n",
    "        return False"
   ]
  },
  {
   "cell_type": "code",
   "execution_count": null,
   "id": "852ccd82",
   "metadata": {},
   "outputs": [],
   "source": [
    "# Q14: Write a program that uses the logging module to log both informational and error messages.\n",
    "# Your code goes here\n",
    "def log_messages(log_filename):\n",
    "    setup_logging(log_filename)\n",
    "    log_info(\"This is an informational message.\")\n",
    "    log_warning(\"This is a warning message.\")\n",
    "    try:\n",
    "        # Simulating an error\n",
    "        1 / 0\n",
    "    except ZeroDivisionError:\n",
    "        log_error(\"An error occurred: Division by zero.\")\n",
    "    except Exception as e:\n",
    "        log_error(f\"An unexpected error occurred: {e}\")"
   ]
  },
  {
   "cell_type": "code",
   "execution_count": null,
   "id": "610a26f2",
   "metadata": {},
   "outputs": [],
   "source": [
    "# Q15: Write a Python program that prints the content of a file and handles the case when the file is empty.\n",
    "# Your code goes here\n",
    "def print_file_content(filename):\n",
    "    try:\n",
    "        with open(filename, 'r') as file:\n",
    "            content = file.read()\n",
    "            if not content:\n",
    "                print(f\"The file {filename} is empty.\")\n",
    "            else:\n",
    "                print(content)\n",
    "    except FileNotFoundError:\n",
    "        print(f\"The file {filename} does not exist.\")\n",
    "    except Exception as e:\n",
    "        print(f\"An error occurred while reading the file: {e}\")"
   ]
  },
  {
   "cell_type": "code",
   "execution_count": null,
   "id": "e89edc10",
   "metadata": {},
   "outputs": [],
   "source": [
    "# Q16: Demonstrate how to use memory profiling to check the memory usage of a small program.\n",
    "# Your code goes here\n",
    "def memory_profiling_demo():\n",
    "    import memory_profiler\n",
    "    @memory_profiler.profile\n",
    "    def example_function():\n",
    "        a = [i for i in range(10000)]\n",
    "        b = [j * 2 for j in a]\n",
    "        return b\n",
    "\n",
    "    example_function()"
   ]
  },
  {
   "cell_type": "code",
   "execution_count": null,
   "id": "1e7006fb",
   "metadata": {},
   "outputs": [],
   "source": [
    "# Q17: Write a Python program to create and write a list of numbers to a file, one number per line.\n",
    "# Your code goes here\n",
    "def write_numbers_to_file(filename, numbers):\n",
    "    try:\n",
    "        with open(filename, 'w') as file:\n",
    "            for number in numbers:\n",
    "                file.write(f\"{number}\\n\")\n",
    "        print(f\"Successfully wrote numbers to {filename}\")\n",
    "    except Exception as e:\n",
    "        print(f\"An error occurred while writing to the file: {e}\")"
   ]
  },
  {
   "cell_type": "code",
   "execution_count": null,
   "id": "552df02f",
   "metadata": {},
   "outputs": [],
   "source": [
    "# Q18: How would you implement a basic logging setup that logs to a file with rotation after 1MB?\n",
    "# Your code goes here\n",
    "import logging\n",
    "from logging.handlers import RotatingFileHandler\n",
    "def setup_rotating_logging(log_filename):\n",
    "    handler = RotatingFileHandler(log_filename, maxBytes=1e6, backupCount=5)\n",
    "    logging.basicConfig(handlers=[handler], level=logging.INFO, \n",
    "                        format='%(asctime)s - %(levelname)s - %(message)s')\n",
    "def log_rotating_messages(log_filename):\n",
    "    setup_rotating_logging(log_filename)\n",
    "    logging.info(\"This is an informational message.\")\n",
    "    logging.warning(\"This is a warning message.\")\n",
    "    try:\n",
    "        # Simulating an error\n",
    "        1 / 0\n",
    "    except ZeroDivisionError:\n",
    "        logging.error(\"An error occurred: Division by zero.\")\n",
    "    except Exception as e:\n",
    "        logging.error(f\"An unexpected error occurred: {e}\")"
   ]
  },
  {
   "cell_type": "code",
   "execution_count": null,
   "id": "98de1168",
   "metadata": {},
   "outputs": [],
   "source": [
    "# Q19: Write a program that handles both IndexError and KeyError using a try-except block.\n",
    "# Your code goes here\n",
    "def handle_index_and_key_error(data_list, data_dict, index, key):\n",
    "    try:\n",
    "        value_from_list = data_list[index]\n",
    "        value_from_dict = data_dict[key]\n",
    "        return value_from_list, value_from_dict\n",
    "    except IndexError:\n",
    "        print(f\"IndexError: The index {index} is out of range for the list.\")\n",
    "        return None, None\n",
    "    except KeyError:\n",
    "        print(f\"KeyError: The key '{key}' does not exist in the dictionary.\")\n",
    "        return None, None\n",
    "    except Exception as e:\n",
    "        print(f\"An unexpected error occurred: {e}\")\n",
    "        return None, None"
   ]
  },
  {
   "cell_type": "code",
   "execution_count": null,
   "id": "bb529f28",
   "metadata": {},
   "outputs": [],
   "source": [
    "# Q20: How would you open a file and read its contents using a context manager in Python?\n",
    "# Your code goes here\n",
    "def read_file_with_context_manager(filename):\n",
    "    try:\n",
    "        with open(filename, 'r') as file:\n",
    "            content = file.read()\n",
    "            print(content)\n",
    "    except FileNotFoundError:\n",
    "        print(f\"The file {filename} does not exist.\")\n",
    "    except Exception as e:\n",
    "        print(f\"An error occurred while reading the file: {e}\")"
   ]
  },
  {
   "cell_type": "code",
   "execution_count": null,
   "id": "3ecd2d4d",
   "metadata": {},
   "outputs": [],
   "source": [
    "# Q21: Write a Python program that reads a file and prints the number of occurrences of a specific word.\n",
    "# Your code goes here\n",
    "def count_word_in_file(filename, word):\n",
    "    try:\n",
    "        with open(filename, 'r') as file:\n",
    "            content = file.read()\n",
    "            word_count = content.lower().count(word.lower())\n",
    "            print(f\"The word '{word}' occurs {word_count} times in the file {filename}.\")\n",
    "    except FileNotFoundError:\n",
    "        print(f\"The file {filename} does not exist.\")\n",
    "    except Exception as e:\n",
    "        print(f\"An error occurred while reading the file: {e}\")"
   ]
  },
  {
   "cell_type": "code",
   "execution_count": null,
   "id": "3330379d",
   "metadata": {},
   "outputs": [],
   "source": [
    "# Q22: How can you check if a file is empty before attempting to read its contents?\n",
    "# Your code goes here\n",
    "def is_file_empty(filename):\n",
    "    try:\n",
    "        with open(filename, 'r') as file:\n",
    "            content = file.read()\n",
    "            if not content:\n",
    "                print(f\"The file {filename} is empty.\")\n",
    "                return True\n",
    "            else:\n",
    "                print(f\"The file {filename} is not empty.\")\n",
    "                return False\n",
    "    except FileNotFoundError:\n",
    "        print(f\"The file {filename} does not exist.\")\n",
    "        return True"
   ]
  },
  {
   "cell_type": "code",
   "execution_count": null,
   "id": "1ad55843",
   "metadata": {},
   "outputs": [],
   "source": [
    "# Q23: Write a Python program that writes to a log file when an error occurs during file handling.\n",
    "# Your code goes here\n",
    "def log_file_handling_error(log_filename, error_message):\n",
    "    setup_logging(log_filename)\n",
    "    logging.error(f\"File handling error: {error_message}\")\n"
   ]
  }
 ],
 "metadata": {
  "language_info": {
   "name": "python"
  }
 },
 "nbformat": 4,
 "nbformat_minor": 5
}
